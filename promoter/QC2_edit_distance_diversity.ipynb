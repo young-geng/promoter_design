{
 "cells": [
  {
   "cell_type": "code",
   "execution_count": 1,
   "id": "a3796f57",
   "metadata": {},
   "outputs": [],
   "source": [
    "import numpy as np\n",
    "import pandas as pd\n",
    "import pickle\n",
    "import os\n",
    "import pdb\n",
    "from tqdm import tqdm\n",
    "\n",
    "import scipy.stats as stats\n",
    "import matplotlib.pyplot as plt\n",
    "import seaborn as sns\n",
    "\n",
    "from sklearn.metrics import pairwise_distances\n",
    "import jellyfish\n",
    "\n",
    "import joblib\n",
    "from joblib import Parallel, delayed\n",
    "\n",
    "np.random.seed(97)"
   ]
  },
  {
   "cell_type": "code",
   "execution_count": 2,
   "id": "0db47405",
   "metadata": {},
   "outputs": [],
   "source": [
    "final_design_seqs_dir = \"/global/scratch/users/aniketh/promoter_modelling/jax_data/final_design/\"\n",
    "ensemble_predictions_dir = \"/global/scratch/users/aniketh/promoter_modelling/jax_data/ensemble_predictions/\""
   ]
  },
  {
   "cell_type": "code",
   "execution_count": 3,
   "id": "255d3b5e",
   "metadata": {},
   "outputs": [],
   "source": [
    "# NOTE: ensemble 0 is the original ensemble 3 and ensemble 1 is the original ensemble 4\n",
    "ensemble_1_filtered_sequences = pd.read_parquet(os.path.join(ensemble_predictions_dir, \n",
    "                                                             \"filtered_ensemble_4_predictions.parquet\"))\n",
    "ensemble_1_dataset_seqs = ensemble_1_filtered_sequences[ensemble_1_filtered_sequences[\"design_method\"] == \"Dataset\"].reset_index(drop=True)"
   ]
  },
  {
   "cell_type": "code",
   "execution_count": 4,
   "id": "aab3a7d9",
   "metadata": {},
   "outputs": [
    {
     "name": "stdout",
     "output_type": "stream",
     "text": [
      "coms None\n",
      "dens None\n"
     ]
    }
   ],
   "source": [
    "methods = [\"coms\", \"dens\"]\n",
    "num_seqs = [None, None]\n",
    "all_seqs = []\n",
    "for i, method in enumerate(methods):\n",
    "    print(method, num_seqs[i])\n",
    "    seqs = pickle.load(open(os.path.join(final_design_seqs_dir, f\"{method}_final_design.pkl\"), \"rb\"))\n",
    "    seqs_df = []\n",
    "    kmer_features = {}\n",
    "    for cell in [\"jurkat\", \"k562\", \"thp1\"]:\n",
    "        kmer_features[cell] = seqs[cell][\"kmer_features\"]\n",
    "        seqs[cell].pop(\"kmer_features\")\n",
    "        df = pd.DataFrame(seqs[cell])\n",
    "        df[\"designed_for\"] = cell\n",
    "        \n",
    "        if num_seqs[i] is not None:\n",
    "            df = df.tail(num_seqs[i])\n",
    "        \n",
    "        seqs_df.append(df)\n",
    "    \n",
    "    seqs_df = pd.concat(seqs_df).reset_index(drop=True)\n",
    "    all_seqs.extend(seqs_df[\"sequences\"])"
   ]
  },
  {
   "cell_type": "code",
   "execution_count": null,
   "id": "2b751fc5",
   "metadata": {},
   "outputs": [
    {
     "name": "stdout",
     "output_type": "stream",
     "text": [
      "46310\n"
     ]
    },
    {
     "name": "stderr",
     "output_type": "stream",
     "text": [
      "  1%|          | 291/46310 [11:02<29:20:23,  2.30s/it]"
     ]
    }
   ],
   "source": [
    "raw_seqs = list(ensemble_1_dataset_seqs[\"sequence\"]) + all_seqs\n",
    "print(len(raw_seqs))\n",
    "pairwise_edit_distances = Parallel(n_jobs=-1)(delayed(jellyfish.damerau_levenshtein_distance)(raw_seqs[i], raw_seqs[j]) \n",
    "                                              for i in tqdm(range(len(raw_seqs))) \n",
    "                                              for j in range(i+1, len(raw_seqs), 1))\n",
    "np.save(os.path.join(final_design_seqs_dir, f\"pairwise_damerau_levenshtein_distances\"), pairwise_edit_distances)\n",
    "np.save(os.path.join(final_design_seqs_dir, f\"raw_seqs\"), raw_seqs)"
   ]
  },
  {
   "cell_type": "code",
   "execution_count": null,
   "id": "2755775d",
   "metadata": {},
   "outputs": [],
   "source": []
  }
 ],
 "metadata": {
  "kernelspec": {
   "display_name": "mar312023",
   "language": "python",
   "name": "mar312023"
  },
  "language_info": {
   "codemirror_mode": {
    "name": "ipython",
    "version": 3
   },
   "file_extension": ".py",
   "mimetype": "text/x-python",
   "name": "python",
   "nbconvert_exporter": "python",
   "pygments_lexer": "ipython3",
   "version": "3.10.10"
  }
 },
 "nbformat": 4,
 "nbformat_minor": 5
}
