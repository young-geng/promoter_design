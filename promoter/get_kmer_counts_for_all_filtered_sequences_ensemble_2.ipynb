{
 "cells": [
  {
   "cell_type": "code",
   "execution_count": 1,
   "id": "222cdaa4",
   "metadata": {},
   "outputs": [],
   "source": [
    "import numpy as np\n",
    "import pandas as pd\n",
    "import os\n",
    "import pdb\n",
    "import matplotlib.pyplot as plt\n",
    "import seaborn as sns\n",
    "import pickle\n",
    "from tqdm import tqdm\n",
    "from sklearn.metrics import pairwise_distances\n",
    "\n",
    "np.random.seed(97)"
   ]
  },
  {
   "cell_type": "code",
   "execution_count": 2,
   "id": "926580a2",
   "metadata": {},
   "outputs": [],
   "source": [
    "ensemble_predictions_dir = \"/global/scratch/users/aniketh/promoter_modelling/jax_data/ensemble_predictions/\"\n",
    "kmer_k = 6"
   ]
  },
  {
   "cell_type": "code",
   "execution_count": 3,
   "id": "1c075e8f",
   "metadata": {},
   "outputs": [],
   "source": [
    "final_df = pd.read_parquet(os.path.join(ensemble_predictions_dir, \"filtered_ensemble_2_predictions.parquet\"))\n",
    "coms_df = pd.read_parquet(os.path.join(ensemble_predictions_dir, \"filtered_coms_sequences_ensemble_2.parquet\"))\n",
    "dens_df = pd.read_parquet(os.path.join(ensemble_predictions_dir, \"filtered_dens_sequences_ensemble_2.parquet\"))"
   ]
  },
  {
   "cell_type": "code",
   "execution_count": 4,
   "id": "84931b78",
   "metadata": {},
   "outputs": [],
   "source": [
    "def get_all_kmers(k):\n",
    "    bases = [\"A\", \"C\", \"G\", \"T\"]\n",
    "    all_kmers = [\"\"] * (len(bases)**k)\n",
    "\n",
    "    for i in range(k):\n",
    "        for j in range(int(len(bases)**i)):\n",
    "            for b, base in enumerate(bases):\n",
    "                for l in range(len(bases)**(k - i - 1)):\n",
    "                    ind = int(l + (j*len(bases) + b)*(len(bases)**(k - i - 1)))\n",
    "                    all_kmers[ind] = all_kmers[ind][:i] + base\n",
    "    \n",
    "    assert len(set(all_kmers)) == len(bases)**k\n",
    "    \n",
    "    kmer_to_ind = {}\n",
    "    for i, kmer in enumerate(all_kmers):\n",
    "        kmer_to_ind[kmer] = i\n",
    "    \n",
    "    return all_kmers, kmer_to_ind"
   ]
  },
  {
   "cell_type": "code",
   "execution_count": 5,
   "id": "8f15c1f8",
   "metadata": {},
   "outputs": [],
   "source": [
    "def get_kmer_counts(seq, kmer_size, kmer_to_ind):\n",
    "    assert len(seq) >= kmer_size\n",
    "    kmer_counts = np.zeros(4**kmer_size)\n",
    "    for i in range(len(seq) - kmer_size + 1):\n",
    "        kmer_counts[kmer_to_ind[seq[i: i+kmer_size]]] += 1\n",
    "    return kmer_counts"
   ]
  },
  {
   "cell_type": "code",
   "execution_count": 6,
   "id": "d4fa1119",
   "metadata": {},
   "outputs": [],
   "source": [
    "all_kmers, kmer_to_ind = get_all_kmers(kmer_k)"
   ]
  },
  {
   "cell_type": "code",
   "execution_count": 7,
   "id": "a44e91ba",
   "metadata": {},
   "outputs": [
    {
     "name": "stderr",
     "output_type": "stream",
     "text": [
      "100%|██████████| 138269/138269 [00:40<00:00, 3419.67it/s]\n"
     ]
    },
    {
     "name": "stdout",
     "output_type": "stream",
     "text": [
      "(138269, 4096)\n"
     ]
    }
   ],
   "source": [
    "coms_sequences_kmer_counts = []\n",
    "for i in tqdm(range(len(coms_df))):\n",
    "    coms_sequences_kmer_counts.append(get_kmer_counts(coms_df.iloc[i][\"sequence\"], kmer_k, kmer_to_ind))\n",
    "coms_sequences_kmer_counts = np.stack(coms_sequences_kmer_counts)\n",
    "print(coms_sequences_kmer_counts.shape)"
   ]
  },
  {
   "cell_type": "code",
   "execution_count": 8,
   "id": "1fa3d741",
   "metadata": {},
   "outputs": [
    {
     "name": "stderr",
     "output_type": "stream",
     "text": [
      "100%|██████████| 69230/69230 [00:19<00:00, 3556.33it/s]\n"
     ]
    },
    {
     "name": "stdout",
     "output_type": "stream",
     "text": [
      "(69230, 4096)\n"
     ]
    }
   ],
   "source": [
    "dens_sequences_kmer_counts = []\n",
    "for i in tqdm(range(len(dens_df))):\n",
    "    dens_sequences_kmer_counts.append(get_kmer_counts(dens_df.iloc[i][\"sequence\"], kmer_k, kmer_to_ind))\n",
    "dens_sequences_kmer_counts = np.stack(dens_sequences_kmer_counts)\n",
    "print(dens_sequences_kmer_counts.shape)"
   ]
  },
  {
   "cell_type": "code",
   "execution_count": 9,
   "id": "61ec3494",
   "metadata": {},
   "outputs": [],
   "source": [
    "np.save(os.path.join(ensemble_predictions_dir, f\"filtered_coms_sequences_ensemble_2_{kmer_k}mer_counts.npy\"), coms_sequences_kmer_counts)\n",
    "np.save(os.path.join(ensemble_predictions_dir, f\"filtered_dens_sequences_ensemble_2_{kmer_k}mer_counts.npy\"), dens_sequences_kmer_counts)"
   ]
  },
  {
   "cell_type": "code",
   "execution_count": 10,
   "id": "f0ac42d9",
   "metadata": {},
   "outputs": [],
   "source": [
    "coms_sequences_pairwise_distances = pairwise_distances(coms_sequences_kmer_counts, metric=\"euclidean\", n_jobs=-1)\n",
    "dens_sequences_pairwise_distances = pairwise_distances(dens_sequences_kmer_counts, metric=\"euclidean\", n_jobs=-1)"
   ]
  },
  {
   "cell_type": "code",
   "execution_count": 11,
   "id": "d9272f6f",
   "metadata": {},
   "outputs": [],
   "source": [
    "np.save(os.path.join(ensemble_predictions_dir, f\"filtered_coms_sequences_ensemble_2_{kmer_k}mer_counts_pairwise_euclidean_distances.npy\"), coms_sequences_pairwise_distances)\n",
    "np.save(os.path.join(ensemble_predictions_dir, f\"filtered_dens_sequences_ensemble_2_{kmer_k}mer_counts_pairwise_euclidean_distances.npy\"), dens_sequences_pairwise_distances)"
   ]
  },
  {
   "cell_type": "code",
   "execution_count": 13,
   "id": "8d344fe8",
   "metadata": {},
   "outputs": [
    {
     "data": {
      "text/plain": [
       "85.00588214941364"
      ]
     },
     "execution_count": 13,
     "metadata": {},
     "output_type": "execute_result"
    }
   ],
   "source": [
    "coms_sequences_pairwise_distances.max()"
   ]
  },
  {
   "cell_type": "code",
   "execution_count": 14,
   "id": "6140483a",
   "metadata": {},
   "outputs": [
    {
     "data": {
      "text/plain": [
       "171.516763029157"
      ]
     },
     "execution_count": 14,
     "metadata": {},
     "output_type": "execute_result"
    }
   ],
   "source": [
    "dens_sequences_pairwise_distances.max()"
   ]
  },
  {
   "cell_type": "code",
   "execution_count": null,
   "id": "55644d09",
   "metadata": {},
   "outputs": [],
   "source": []
  }
 ],
 "metadata": {
  "kernelspec": {
   "display_name": "mar312023",
   "language": "python",
   "name": "mar312023"
  },
  "language_info": {
   "codemirror_mode": {
    "name": "ipython",
    "version": 3
   },
   "file_extension": ".py",
   "mimetype": "text/x-python",
   "name": "python",
   "nbconvert_exporter": "python",
   "pygments_lexer": "ipython3",
   "version": "3.10.10"
  }
 },
 "nbformat": 4,
 "nbformat_minor": 5
}
