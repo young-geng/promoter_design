{
 "cells": [
  {
   "cell_type": "code",
   "execution_count": 1,
   "id": "d5ff0b06",
   "metadata": {},
   "outputs": [
    {
     "name": "stderr",
     "output_type": "stream",
     "text": [
      "/global/scratch/users/aniketh/mamba_envs/gimme/lib/python3.10/site-packages/tqdm/autonotebook.py:19: TqdmWarning: IProgress not found. Please update jupyter and ipywidgets. See https://ipywidgets.readthedocs.io/en/stable/user_install.html\n",
      "  warn(WARN_NOIPYW, TqdmWarning, stacklevel=2)\n"
     ]
    }
   ],
   "source": [
    "import numpy as np\n",
    "import pandas as pd\n",
    "import pickle\n",
    "import os\n",
    "import pdb\n",
    "from tqdm import tqdm\n",
    "\n",
    "import scipy.stats as stats\n",
    "from sklearn.metrics import pairwise_distances\n",
    "import matplotlib.pyplot as plt\n",
    "import seaborn as sns\n",
    "\n",
    "import joblib\n",
    "from joblib import Parallel, delayed\n",
    "\n",
    "from gimmemotifs.motif import read_motifs\n",
    "from gimmemotifs.scanner import Scanner\n",
    "from gimmemotifs.fasta import Fasta\n",
    "from gimmemotifs.motif.denovo import gimme_motifs\n",
    "\n",
    "os.environ[\"XDG_CACHE_HOME\"] = \"/clusterfs/nilah/aniketh/gimmemotifs\"\n",
    "\n",
    "np.random.seed(97)"
   ]
  },
  {
   "cell_type": "code",
   "execution_count": 2,
   "id": "03c23a59",
   "metadata": {},
   "outputs": [],
   "source": [
    "final_design_seqs_dir = \"/global/scratch/users/aniketh/promoter_modelling/jax_data/final_design/\"\n",
    "ensemble_predictions_dir = \"/global/scratch/users/aniketh/promoter_modelling/jax_data/ensemble_predictions/\""
   ]
  },
  {
   "cell_type": "code",
   "execution_count": 3,
   "id": "f508bd86",
   "metadata": {},
   "outputs": [
    {
     "name": "stdout",
     "output_type": "stream",
     "text": [
      "coms None\n",
      "15000\n",
      "15000\n"
     ]
    }
   ],
   "source": [
    "methods = [\"coms\", \"dens\"]\n",
    "num_seqs = [None, None]\n",
    "all_seqs = []\n",
    "all_sources = []\n",
    "for i, method in enumerate(methods):\n",
    "    print(method, num_seqs[i])\n",
    "    seqs = pickle.load(open(os.path.join(final_design_seqs_dir, f\"{method}_final_design.pkl\"), \"rb\"))\n",
    "    seqs_df = []\n",
    "    kmer_features = {}\n",
    "    for cell in [\"jurkat\", \"k562\", \"thp1\"]:\n",
    "        kmer_features[cell] = seqs[cell][\"kmer_features\"]\n",
    "        seqs[cell].pop(\"kmer_features\")\n",
    "        df = pd.DataFrame(seqs[cell])\n",
    "        df[\"designed_for\"] = cell\n",
    "        \n",
    "        if num_seqs[i] is not None:\n",
    "            df = df.tail(num_seqs[i])\n",
    "        \n",
    "        seqs_df.append(df)\n",
    "    \n",
    "    seqs_df = pd.concat(seqs_df).reset_index(drop=True)\n",
    "    all_seqs.extend(seqs_df[\"sequences\"])\n",
    "    all_sources.extend([f\"{method}\" for s in seqs_df[\"sequences\"]])\n",
    "    \n",
    "    break\n",
    "    \n",
    "all_sources = np.array(all_sources)\n",
    "print(len(all_seqs))\n",
    "print(len(all_sources))"
   ]
  },
  {
   "cell_type": "code",
   "execution_count": 4,
   "id": "7b13cb02",
   "metadata": {},
   "outputs": [],
   "source": [
    "def create_temp_fasta(seqs, file_path):\n",
    "    with open(file_path, \"w+\") as f:\n",
    "        for i, seq in enumerate(seqs):\n",
    "            f.write(f\">{i}\\n\")\n",
    "            f.write(f\"{seq}\\n\")"
   ]
  },
  {
   "cell_type": "code",
   "execution_count": 5,
   "id": "a90be034",
   "metadata": {},
   "outputs": [
    {
     "name": "stderr",
     "output_type": "stream",
     "text": [
      "2023-07-24 19:22:04,808 - INFO - starting full motif analysis\n",
      "2023-07-24 19:22:04,812 - INFO - using size of 200, set size to 0 to use original region size\n",
      "2023-07-24 19:22:04,813 - INFO - preparing input from FASTA\n",
      "2023-07-24 19:22:05,607 - INFO - Creating index for genomic GC frequencies.\n"
     ]
    },
    {
     "ename": "NotImplementedError",
     "evalue": "\"windowMaker\" does not appear to be installed or on the path, so this method is disabled.  Please install a more recent version of BEDTools and re-import to use this method.",
     "output_type": "error",
     "traceback": [
      "\u001b[0;31m---------------------------------------------------------------------------\u001b[0m",
      "\u001b[0;31mFileNotFoundError\u001b[0m                         Traceback (most recent call last)",
      "File \u001b[0;32m/global/scratch/users/aniketh/mamba_envs/gimme/lib/python3.10/site-packages/gimmemotifs/background.py:390\u001b[0m, in \u001b[0;36mgc_bin_bedfile\u001b[0;34m(bedfile, genome, number, length, bins, random_state, min_bin_size)\u001b[0m\n\u001b[1;32m    389\u001b[0m \u001b[38;5;28;01mtry\u001b[39;00m:\n\u001b[0;32m--> 390\u001b[0m     df \u001b[38;5;241m=\u001b[39m \u001b[43mpd\u001b[49m\u001b[38;5;241;43m.\u001b[39;49m\u001b[43mread_feather\u001b[49m\u001b[43m(\u001b[49m\u001b[43mfname\u001b[49m\u001b[43m)\u001b[49m\n\u001b[1;32m    391\u001b[0m \u001b[38;5;28;01mexcept\u001b[39;00m \u001b[38;5;167;01mFileNotFoundError\u001b[39;00m:\n",
      "File \u001b[0;32m/global/scratch/users/aniketh/mamba_envs/gimme/lib/python3.10/site-packages/pandas/io/feather_format.py:128\u001b[0m, in \u001b[0;36mread_feather\u001b[0;34m(path, columns, use_threads, storage_options)\u001b[0m\n\u001b[1;32m    126\u001b[0m \u001b[38;5;28;01mfrom\u001b[39;00m \u001b[38;5;21;01mpyarrow\u001b[39;00m \u001b[38;5;28;01mimport\u001b[39;00m feather\n\u001b[0;32m--> 128\u001b[0m \u001b[38;5;28;01mwith\u001b[39;00m \u001b[43mget_handle\u001b[49m\u001b[43m(\u001b[49m\n\u001b[1;32m    129\u001b[0m \u001b[43m    \u001b[49m\u001b[43mpath\u001b[49m\u001b[43m,\u001b[49m\u001b[43m \u001b[49m\u001b[38;5;124;43m\"\u001b[39;49m\u001b[38;5;124;43mrb\u001b[39;49m\u001b[38;5;124;43m\"\u001b[39;49m\u001b[43m,\u001b[49m\u001b[43m \u001b[49m\u001b[43mstorage_options\u001b[49m\u001b[38;5;241;43m=\u001b[39;49m\u001b[43mstorage_options\u001b[49m\u001b[43m,\u001b[49m\u001b[43m \u001b[49m\u001b[43mis_text\u001b[49m\u001b[38;5;241;43m=\u001b[39;49m\u001b[38;5;28;43;01mFalse\u001b[39;49;00m\n\u001b[1;32m    130\u001b[0m \u001b[43m\u001b[49m\u001b[43m)\u001b[49m \u001b[38;5;28;01mas\u001b[39;00m handles:\n\u001b[1;32m    132\u001b[0m     \u001b[38;5;28;01mreturn\u001b[39;00m feather\u001b[38;5;241m.\u001b[39mread_feather(\n\u001b[1;32m    133\u001b[0m         handles\u001b[38;5;241m.\u001b[39mhandle, columns\u001b[38;5;241m=\u001b[39mcolumns, use_threads\u001b[38;5;241m=\u001b[39m\u001b[38;5;28mbool\u001b[39m(use_threads)\n\u001b[1;32m    134\u001b[0m     )\n",
      "File \u001b[0;32m/global/scratch/users/aniketh/mamba_envs/gimme/lib/python3.10/site-packages/pandas/io/common.py:865\u001b[0m, in \u001b[0;36mget_handle\u001b[0;34m(path_or_buf, mode, encoding, compression, memory_map, is_text, errors, storage_options)\u001b[0m\n\u001b[1;32m    863\u001b[0m \u001b[38;5;28;01melse\u001b[39;00m:\n\u001b[1;32m    864\u001b[0m     \u001b[38;5;66;03m# Binary mode\u001b[39;00m\n\u001b[0;32m--> 865\u001b[0m     handle \u001b[38;5;241m=\u001b[39m \u001b[38;5;28;43mopen\u001b[39;49m\u001b[43m(\u001b[49m\u001b[43mhandle\u001b[49m\u001b[43m,\u001b[49m\u001b[43m \u001b[49m\u001b[43mioargs\u001b[49m\u001b[38;5;241;43m.\u001b[39;49m\u001b[43mmode\u001b[49m\u001b[43m)\u001b[49m\n\u001b[1;32m    866\u001b[0m handles\u001b[38;5;241m.\u001b[39mappend(handle)\n",
      "\u001b[0;31mFileNotFoundError\u001b[0m: [Errno 2] No such file or directory: '/global/home/users/aniketh/.cache/gimmemotifs/hg38.gcfreq.100.feather'",
      "\nDuring handling of the above exception, another exception occurred:\n",
      "\u001b[0;31mNotImplementedError\u001b[0m                       Traceback (most recent call last)",
      "Cell \u001b[0;32mIn[5], line 9\u001b[0m\n\u001b[1;32m      3\u001b[0m outdir \u001b[38;5;241m=\u001b[39m \u001b[38;5;124m\"\u001b[39m\u001b[38;5;124mtemp_gimme\u001b[39m\u001b[38;5;124m\"\u001b[39m\n\u001b[1;32m      4\u001b[0m params \u001b[38;5;241m=\u001b[39m {\n\u001b[1;32m      5\u001b[0m     \u001b[38;5;124m\"\u001b[39m\u001b[38;5;124mtools\u001b[39m\u001b[38;5;124m\"\u001b[39m: \u001b[38;5;124m\"\u001b[39m\u001b[38;5;124mHomer,BioProspector\u001b[39m\u001b[38;5;124m\"\u001b[39m,\n\u001b[1;32m      6\u001b[0m     \u001b[38;5;124m\"\u001b[39m\u001b[38;5;124mgenome\u001b[39m\u001b[38;5;124m\"\u001b[39m: \u001b[38;5;124m\"\u001b[39m\u001b[38;5;124mhg38\u001b[39m\u001b[38;5;124m\"\u001b[39m\n\u001b[1;32m      7\u001b[0m     }\n\u001b[0;32m----> 9\u001b[0m motifs \u001b[38;5;241m=\u001b[39m \u001b[43mgimme_motifs\u001b[49m\u001b[43m(\u001b[49m\u001b[43mfasta_path\u001b[49m\u001b[43m,\u001b[49m\u001b[43m \u001b[49m\u001b[43moutdir\u001b[49m\u001b[43m,\u001b[49m\u001b[43m \u001b[49m\u001b[43mparams\u001b[49m\u001b[38;5;241;43m=\u001b[39;49m\u001b[43mparams\u001b[49m\u001b[43m)\u001b[49m\n",
      "File \u001b[0;32m/global/scratch/users/aniketh/mamba_envs/gimme/lib/python3.10/site-packages/gimmemotifs/motif/denovo.py:622\u001b[0m, in \u001b[0;36mgimme_motifs\u001b[0;34m(inputfile, outdir, params, filter_significant, cluster, create_report)\u001b[0m\n\u001b[1;32m    619\u001b[0m     sys\u001b[38;5;241m.\u001b[39mexit(\u001b[38;5;241m1\u001b[39m)\n\u001b[1;32m    621\u001b[0m \u001b[38;5;66;03m# Create the background FASTA files\u001b[39;00m\n\u001b[0;32m--> 622\u001b[0m background \u001b[38;5;241m=\u001b[39m \u001b[43mcreate_backgrounds\u001b[49m\u001b[43m(\u001b[49m\n\u001b[1;32m    623\u001b[0m \u001b[43m    \u001b[49m\u001b[43mtmpdir\u001b[49m\u001b[43m,\u001b[49m\n\u001b[1;32m    624\u001b[0m \u001b[43m    \u001b[49m\u001b[43mbackground\u001b[49m\u001b[43m,\u001b[49m\n\u001b[1;32m    625\u001b[0m \u001b[43m    \u001b[49m\u001b[43mparams\u001b[49m\u001b[38;5;241;43m.\u001b[39;49m\u001b[43mget\u001b[49m\u001b[43m(\u001b[49m\u001b[38;5;124;43m\"\u001b[39;49m\u001b[38;5;124;43mgenome\u001b[39;49m\u001b[38;5;124;43m\"\u001b[39;49m\u001b[43m,\u001b[49m\u001b[43m \u001b[49m\u001b[38;5;28;43;01mNone\u001b[39;49;00m\u001b[43m)\u001b[49m\u001b[43m,\u001b[49m\n\u001b[1;32m    626\u001b[0m \u001b[43m    \u001b[49m\u001b[43mparams\u001b[49m\u001b[43m[\u001b[49m\u001b[38;5;124;43m\"\u001b[39;49m\u001b[38;5;124;43msize\u001b[39;49m\u001b[38;5;124;43m\"\u001b[39;49m\u001b[43m]\u001b[49m\u001b[43m,\u001b[49m\n\u001b[1;32m    627\u001b[0m \u001b[43m    \u001b[49m\u001b[43mparams\u001b[49m\u001b[38;5;241;43m.\u001b[39;49m\u001b[43mget\u001b[49m\u001b[43m(\u001b[49m\u001b[38;5;124;43m\"\u001b[39;49m\u001b[38;5;124;43mcustom_background\u001b[39;49m\u001b[38;5;124;43m\"\u001b[39;49m\u001b[43m,\u001b[49m\u001b[43m \u001b[49m\u001b[38;5;28;43;01mNone\u001b[39;49;00m\u001b[43m)\u001b[49m\u001b[43m,\u001b[49m\n\u001b[1;32m    628\u001b[0m \u001b[43m\u001b[49m\u001b[43m)\u001b[49m\n\u001b[1;32m    630\u001b[0m \u001b[38;5;66;03m# Predict de novo motifs\u001b[39;00m\n\u001b[1;32m    631\u001b[0m result \u001b[38;5;241m=\u001b[39m predict_motifs(\n\u001b[1;32m    632\u001b[0m     os\u001b[38;5;241m.\u001b[39mpath\u001b[38;5;241m.\u001b[39mjoin(tmpdir, \u001b[38;5;124m\"\u001b[39m\u001b[38;5;124mprediction.fa\u001b[39m\u001b[38;5;124m\"\u001b[39m),\n\u001b[1;32m    633\u001b[0m     os\u001b[38;5;241m.\u001b[39mpath\u001b[38;5;241m.\u001b[39mjoin(tmpdir, \u001b[38;5;124m\"\u001b[39m\u001b[38;5;124mprediction.bg.fa\u001b[39m\u001b[38;5;124m\"\u001b[39m),\n\u001b[0;32m   (...)\u001b[0m\n\u001b[1;32m    637\u001b[0m     stats_bg\u001b[38;5;241m=\u001b[39mbackground,\n\u001b[1;32m    638\u001b[0m )\n",
      "File \u001b[0;32m/global/scratch/users/aniketh/mamba_envs/gimme/lib/python3.10/site-packages/gimmemotifs/motif/denovo.py:326\u001b[0m, in \u001b[0;36mcreate_backgrounds\u001b[0;34m(outdir, background, genome, size, custom_background)\u001b[0m\n\u001b[1;32m    323\u001b[0m \u001b[38;5;28;01melse\u001b[39;00m:\n\u001b[1;32m    324\u001b[0m     pred_bg \u001b[38;5;241m=\u001b[39m background[\u001b[38;5;241m0\u001b[39m]\n\u001b[0;32m--> 326\u001b[0m \u001b[43mcreate_background\u001b[49m\u001b[43m(\u001b[49m\n\u001b[1;32m    327\u001b[0m \u001b[43m    \u001b[49m\u001b[43mpred_bg\u001b[49m\u001b[43m,\u001b[49m\n\u001b[1;32m    328\u001b[0m \u001b[43m    \u001b[49m\u001b[43mos\u001b[49m\u001b[38;5;241;43m.\u001b[39;49m\u001b[43mpath\u001b[49m\u001b[38;5;241;43m.\u001b[39;49m\u001b[43mjoin\u001b[49m\u001b[43m(\u001b[49m\u001b[43moutdir\u001b[49m\u001b[43m,\u001b[49m\u001b[43m \u001b[49m\u001b[38;5;124;43m\"\u001b[39;49m\u001b[38;5;124;43mprediction.fa\u001b[39;49m\u001b[38;5;124;43m\"\u001b[39;49m\u001b[43m)\u001b[49m\u001b[43m,\u001b[49m\n\u001b[1;32m    329\u001b[0m \u001b[43m    \u001b[49m\u001b[43mos\u001b[49m\u001b[38;5;241;43m.\u001b[39;49m\u001b[43mpath\u001b[49m\u001b[38;5;241;43m.\u001b[39;49m\u001b[43mjoin\u001b[49m\u001b[43m(\u001b[49m\u001b[43moutdir\u001b[49m\u001b[43m,\u001b[49m\u001b[43m \u001b[49m\u001b[38;5;124;43m\"\u001b[39;49m\u001b[38;5;124;43mprediction.bg.fa\u001b[39;49m\u001b[38;5;124;43m\"\u001b[39;49m\u001b[43m)\u001b[49m\u001b[43m,\u001b[49m\n\u001b[1;32m    330\u001b[0m \u001b[43m    \u001b[49m\u001b[43mgenome\u001b[49m\u001b[38;5;241;43m=\u001b[39;49m\u001b[43mgenome\u001b[49m\u001b[43m,\u001b[49m\n\u001b[1;32m    331\u001b[0m \u001b[43m    \u001b[49m\u001b[43msize\u001b[49m\u001b[38;5;241;43m=\u001b[39;49m\u001b[43msize\u001b[49m\u001b[43m,\u001b[49m\n\u001b[1;32m    332\u001b[0m \u001b[43m    \u001b[49m\u001b[43mcustom_background\u001b[49m\u001b[38;5;241;43m=\u001b[39;49m\u001b[43mcustom_background\u001b[49m\u001b[43m,\u001b[49m\n\u001b[1;32m    333\u001b[0m \u001b[43m\u001b[49m\u001b[43m)\u001b[49m\n\u001b[1;32m    335\u001b[0m \u001b[38;5;66;03m# Get background fasta files for statistics\u001b[39;00m\n\u001b[1;32m    336\u001b[0m bg_info \u001b[38;5;241m=\u001b[39m {}\n",
      "File \u001b[0;32m/global/scratch/users/aniketh/mamba_envs/gimme/lib/python3.10/site-packages/gimmemotifs/motif/denovo.py:246\u001b[0m, in \u001b[0;36mcreate_background\u001b[0;34m(bg_type, fafile, outfile, genome, size, nr_times, custom_background)\u001b[0m\n\u001b[1;32m    244\u001b[0m \u001b[38;5;28;01melif\u001b[39;00m bg_type \u001b[38;5;241m==\u001b[39m \u001b[38;5;124m\"\u001b[39m\u001b[38;5;124mgc\u001b[39m\u001b[38;5;124m\"\u001b[39m:\n\u001b[1;32m    245\u001b[0m     logger\u001b[38;5;241m.\u001b[39mdebug(\u001b[38;5;124m\"\u001b[39m\u001b[38;5;124mCreating GC matched background\u001b[39m\u001b[38;5;124m\"\u001b[39m)\n\u001b[0;32m--> 246\u001b[0m     f \u001b[38;5;241m=\u001b[39m \u001b[43mMatchedGcFasta\u001b[49m\u001b[43m(\u001b[49m\u001b[43mfafile\u001b[49m\u001b[43m,\u001b[49m\u001b[43m \u001b[49m\u001b[43mgenome\u001b[49m\u001b[43m,\u001b[49m\u001b[43m \u001b[49m\u001b[43mnr_times\u001b[49m\u001b[43m \u001b[49m\u001b[38;5;241;43m*\u001b[39;49m\u001b[43m \u001b[49m\u001b[38;5;28;43mlen\u001b[39;49m\u001b[43m(\u001b[49m\u001b[43mfg\u001b[49m\u001b[43m)\u001b[49m\u001b[43m)\u001b[49m\n\u001b[1;32m    247\u001b[0m     logger\u001b[38;5;241m.\u001b[39mdebug(\u001b[38;5;124mf\u001b[39m\u001b[38;5;124m\"\u001b[39m\u001b[38;5;124mGC matched background: \u001b[39m\u001b[38;5;132;01m{\u001b[39;00moutfile\u001b[38;5;132;01m}\u001b[39;00m\u001b[38;5;124m\"\u001b[39m)\n\u001b[1;32m    248\u001b[0m \u001b[38;5;28;01melif\u001b[39;00m bg_type \u001b[38;5;241m==\u001b[39m \u001b[38;5;124m\"\u001b[39m\u001b[38;5;124mpromoter\u001b[39m\u001b[38;5;124m\"\u001b[39m:\n",
      "File \u001b[0;32m/global/scratch/users/aniketh/mamba_envs/gimme/lib/python3.10/site-packages/gimmemotifs/background.py:558\u001b[0m, in \u001b[0;36mMatchedGcFasta.__init__\u001b[0;34m(self, matchfile, genome, number, size)\u001b[0m\n\u001b[1;32m    555\u001b[0m tmpfasta \u001b[38;5;241m=\u001b[39m NamedTemporaryFile(\u001b[38;5;28mdir\u001b[39m\u001b[38;5;241m=\u001b[39mmytmpdir())\u001b[38;5;241m.\u001b[39mname\n\u001b[1;32m    557\u001b[0m \u001b[38;5;66;03m# Create bed-file with coordinates of random sequences\u001b[39;00m\n\u001b[0;32m--> 558\u001b[0m \u001b[43mmatched_gc_bedfile\u001b[49m\u001b[43m(\u001b[49m\u001b[43mtmpbed\u001b[49m\u001b[43m,\u001b[49m\u001b[43m \u001b[49m\u001b[43mmatchfile\u001b[49m\u001b[43m,\u001b[49m\u001b[43m \u001b[49m\u001b[43mgenome\u001b[49m\u001b[43m,\u001b[49m\u001b[43m \u001b[49m\u001b[43mnumber\u001b[49m\u001b[43m,\u001b[49m\u001b[43m \u001b[49m\u001b[43msize\u001b[49m\u001b[38;5;241;43m=\u001b[39;49m\u001b[43msize\u001b[49m\u001b[43m)\u001b[49m\n\u001b[1;32m    560\u001b[0m \u001b[38;5;66;03m# Convert track to fasta\u001b[39;00m\n\u001b[1;32m    561\u001b[0m Genome(genome)\u001b[38;5;241m.\u001b[39mtrack2fasta(tmpbed, fastafile\u001b[38;5;241m=\u001b[39mtmpfasta)\n",
      "File \u001b[0;32m/global/scratch/users/aniketh/mamba_envs/gimme/lib/python3.10/site-packages/gimmemotifs/background.py:513\u001b[0m, in \u001b[0;36mmatched_gc_bedfile\u001b[0;34m(bedfile, matchfile, genome, number, size, min_bin_size)\u001b[0m\n\u001b[1;32m    510\u001b[0m nseqs \u001b[38;5;241m=\u001b[39m \u001b[38;5;28mmax\u001b[39m(bin_count) \u001b[38;5;241m*\u001b[39m \u001b[38;5;28mlen\u001b[39m(bins)\n\u001b[1;32m    512\u001b[0m \u001b[38;5;28;01mwith\u001b[39;00m NamedTemporaryFile(delete\u001b[38;5;241m=\u001b[39m\u001b[38;5;28;01mFalse\u001b[39;00m) \u001b[38;5;28;01mas\u001b[39;00m tmp:\n\u001b[0;32m--> 513\u001b[0m     \u001b[43mgc_bin_bedfile\u001b[49m\u001b[43m(\u001b[49m\n\u001b[1;32m    514\u001b[0m \u001b[43m        \u001b[49m\u001b[43mtmp\u001b[49m\u001b[38;5;241;43m.\u001b[39;49m\u001b[43mname\u001b[49m\u001b[43m,\u001b[49m\n\u001b[1;32m    515\u001b[0m \u001b[43m        \u001b[49m\u001b[43mgenome\u001b[49m\u001b[43m,\u001b[49m\n\u001b[1;32m    516\u001b[0m \u001b[43m        \u001b[49m\u001b[43mnseqs\u001b[49m\u001b[43m,\u001b[49m\n\u001b[1;32m    517\u001b[0m \u001b[43m        \u001b[49m\u001b[43mlength\u001b[49m\u001b[38;5;241;43m=\u001b[39;49m\u001b[43msize\u001b[49m\u001b[43m,\u001b[49m\n\u001b[1;32m    518\u001b[0m \u001b[43m        \u001b[49m\u001b[43mbins\u001b[49m\u001b[38;5;241;43m=\u001b[39;49m\u001b[43mbins\u001b[49m\u001b[43m,\u001b[49m\n\u001b[1;32m    519\u001b[0m \u001b[43m        \u001b[49m\u001b[43mrandom_state\u001b[49m\u001b[38;5;241;43m=\u001b[39;49m\u001b[38;5;28;43;01mNone\u001b[39;49;00m\u001b[43m,\u001b[49m\n\u001b[1;32m    520\u001b[0m \u001b[43m        \u001b[49m\u001b[43mmin_bin_size\u001b[49m\u001b[38;5;241;43m=\u001b[39;49m\u001b[43mmin_bin_size\u001b[49m\u001b[43m,\u001b[49m\n\u001b[1;32m    521\u001b[0m \u001b[43m    \u001b[49m\u001b[43m)\u001b[49m\n\u001b[1;32m    522\u001b[0m     df \u001b[38;5;241m=\u001b[39m pd\u001b[38;5;241m.\u001b[39mread_csv(tmp\u001b[38;5;241m.\u001b[39mname, sep\u001b[38;5;241m=\u001b[39m\u001b[38;5;124m\"\u001b[39m\u001b[38;5;130;01m\\t\u001b[39;00m\u001b[38;5;124m\"\u001b[39m, names\u001b[38;5;241m=\u001b[39m[\u001b[38;5;124m\"\u001b[39m\u001b[38;5;124mchrom\u001b[39m\u001b[38;5;124m\"\u001b[39m, \u001b[38;5;124m\"\u001b[39m\u001b[38;5;124mstart\u001b[39m\u001b[38;5;124m\"\u001b[39m, \u001b[38;5;124m\"\u001b[39m\u001b[38;5;124mend\u001b[39m\u001b[38;5;124m\"\u001b[39m, \u001b[38;5;124m\"\u001b[39m\u001b[38;5;124mbin\u001b[39m\u001b[38;5;124m\"\u001b[39m])\n\u001b[1;32m    523\u001b[0m     \u001b[38;5;66;03m# print(tmp.name)\u001b[39;00m\n",
      "File \u001b[0;32m/global/scratch/users/aniketh/mamba_envs/gimme/lib/python3.10/site-packages/gimmemotifs/background.py:394\u001b[0m, in \u001b[0;36mgc_bin_bedfile\u001b[0;34m(bedfile, genome, number, length, bins, random_state, min_bin_size)\u001b[0m\n\u001b[1;32m    392\u001b[0m     \u001b[38;5;28;01mif\u001b[39;00m \u001b[38;5;129;01mnot\u001b[39;00m os\u001b[38;5;241m.\u001b[39mpath\u001b[38;5;241m.\u001b[39mexists(CACHE_DIR):\n\u001b[1;32m    393\u001b[0m         os\u001b[38;5;241m.\u001b[39mmakedirs(CACHE_DIR)\n\u001b[0;32m--> 394\u001b[0m     \u001b[43mcreate_gc_bin_index\u001b[49m\u001b[43m(\u001b[49m\u001b[43mgenome\u001b[49m\u001b[43m,\u001b[49m\u001b[43m \u001b[49m\u001b[43mfname\u001b[49m\u001b[43m,\u001b[49m\u001b[43m \u001b[49m\u001b[43mmin_bin_size\u001b[49m\u001b[38;5;241;43m=\u001b[39;49m\u001b[43mmin_bin_size\u001b[49m\u001b[43m)\u001b[49m\n\u001b[1;32m    395\u001b[0m     df \u001b[38;5;241m=\u001b[39m pd\u001b[38;5;241m.\u001b[39mread_feather(fname)\n\u001b[1;32m    397\u001b[0m \u001b[38;5;28;01mif\u001b[39;00m length \u001b[38;5;241m>\u001b[39m\u001b[38;5;241m=\u001b[39m min_bin_size:\n",
      "File \u001b[0;32m/global/scratch/users/aniketh/mamba_envs/gimme/lib/python3.10/site-packages/gimmemotifs/background.py:322\u001b[0m, in \u001b[0;36mcreate_gc_bin_index\u001b[0;34m(genome, fname, min_bin_size)\u001b[0m\n\u001b[1;32m    318\u001b[0m sizes \u001b[38;5;241m=\u001b[39m g\u001b[38;5;241m.\u001b[39mfilename \u001b[38;5;241m+\u001b[39m \u001b[38;5;124m\"\u001b[39m\u001b[38;5;124m.sizes\u001b[39m\u001b[38;5;124m\"\u001b[39m  \u001b[38;5;66;03m# props[\"sizes\"][\"sizes\"]\u001b[39;00m\n\u001b[1;32m    320\u001b[0m \u001b[38;5;28;01mwith\u001b[39;00m NamedTemporaryFile() \u001b[38;5;28;01mas\u001b[39;00m tmp:\n\u001b[1;32m    321\u001b[0m     \u001b[38;5;66;03m# pylint: disable=unexpected-keyword-arg\u001b[39;00m\n\u001b[0;32m--> 322\u001b[0m     \u001b[43mpybedtools\u001b[49m\u001b[38;5;241;43m.\u001b[39;49m\u001b[43mBedTool\u001b[49m\u001b[43m(\u001b[49m\u001b[43m)\u001b[49m\u001b[38;5;241;43m.\u001b[39;49m\u001b[43mwindow_maker\u001b[49m\u001b[43m(\u001b[49m\u001b[43mg\u001b[49m\u001b[38;5;241;43m=\u001b[39;49m\u001b[43msizes\u001b[49m\u001b[43m,\u001b[49m\u001b[43m \u001b[49m\u001b[43mw\u001b[49m\u001b[38;5;241;43m=\u001b[39;49m\u001b[43mmin_bin_size\u001b[49m\u001b[43m)\u001b[49m\u001b[38;5;241m.\u001b[39mnucleotide_content(\n\u001b[1;32m    323\u001b[0m         fi\u001b[38;5;241m=\u001b[39mfasta\n\u001b[1;32m    324\u001b[0m     )\u001b[38;5;241m.\u001b[39msaveas(tmp\u001b[38;5;241m.\u001b[39mname)\n\u001b[1;32m    325\u001b[0m     df \u001b[38;5;241m=\u001b[39m pd\u001b[38;5;241m.\u001b[39mread_csv(\n\u001b[1;32m    326\u001b[0m         tmp\u001b[38;5;241m.\u001b[39mname,\n\u001b[1;32m    327\u001b[0m         sep\u001b[38;5;241m=\u001b[39m\u001b[38;5;124m\"\u001b[39m\u001b[38;5;130;01m\\t\u001b[39;00m\u001b[38;5;124m\"\u001b[39m,\n\u001b[0;32m   (...)\u001b[0m\n\u001b[1;32m    335\u001b[0m         },\n\u001b[1;32m    336\u001b[0m     )\n\u001b[1;32m    338\u001b[0m cols \u001b[38;5;241m=\u001b[39m [\n\u001b[1;32m    339\u001b[0m     \u001b[38;5;124m\"\u001b[39m\u001b[38;5;124mchrom\u001b[39m\u001b[38;5;124m\"\u001b[39m,\n\u001b[1;32m    340\u001b[0m     \u001b[38;5;124m\"\u001b[39m\u001b[38;5;124mstart\u001b[39m\u001b[38;5;124m\"\u001b[39m,\n\u001b[0;32m   (...)\u001b[0m\n\u001b[1;32m    343\u001b[0m     \u001b[38;5;124mf\u001b[39m\u001b[38;5;124m\"\u001b[39m\u001b[38;5;124mn\u001b[39m\u001b[38;5;132;01m{\u001b[39;00mmin_bin_size\u001b[38;5;132;01m}\u001b[39;00m\u001b[38;5;124m\"\u001b[39m,\n\u001b[1;32m    344\u001b[0m ]\n",
      "File \u001b[0;32m/global/scratch/users/aniketh/mamba_envs/gimme/lib/python3.10/site-packages/pybedtools/bedtool.py:923\u001b[0m, in \u001b[0;36mBedTool._log_to_history.<locals>.decorated\u001b[0;34m(self, *args, **kwargs)\u001b[0m\n\u001b[1;32m    919\u001b[0m \u001b[38;5;28;01mdef\u001b[39;00m \u001b[38;5;21mdecorated\u001b[39m(\u001b[38;5;28mself\u001b[39m, \u001b[38;5;241m*\u001b[39margs, \u001b[38;5;241m*\u001b[39m\u001b[38;5;241m*\u001b[39mkwargs):\n\u001b[1;32m    920\u001b[0m \n\u001b[1;32m    921\u001b[0m     \u001b[38;5;66;03m# this calls the actual method in the first place; *result* is\u001b[39;00m\n\u001b[1;32m    922\u001b[0m     \u001b[38;5;66;03m# whatever you get back\u001b[39;00m\n\u001b[0;32m--> 923\u001b[0m     result \u001b[38;5;241m=\u001b[39m \u001b[43mmethod\u001b[49m\u001b[43m(\u001b[49m\u001b[38;5;28;43mself\u001b[39;49m\u001b[43m,\u001b[49m\u001b[43m \u001b[49m\u001b[38;5;241;43m*\u001b[39;49m\u001b[43margs\u001b[49m\u001b[43m,\u001b[49m\u001b[43m \u001b[49m\u001b[38;5;241;43m*\u001b[39;49m\u001b[38;5;241;43m*\u001b[39;49m\u001b[43mkwargs\u001b[49m\u001b[43m)\u001b[49m\n\u001b[1;32m    925\u001b[0m     \u001b[38;5;66;03m# add appropriate tags\u001b[39;00m\n\u001b[1;32m    926\u001b[0m     parent_tag \u001b[38;5;241m=\u001b[39m \u001b[38;5;28mself\u001b[39m\u001b[38;5;241m.\u001b[39m_tag\n",
      "File \u001b[0;32m/global/scratch/users/aniketh/mamba_envs/gimme/lib/python3.10/site-packages/pybedtools/bedtool.py:244\u001b[0m, in \u001b[0;36m_wraps.<locals>.decorator.<locals>.not_implemented_func\u001b[0;34m(*args, **kwargs)\u001b[0m\n\u001b[1;32m    243\u001b[0m \u001b[38;5;28;01mdef\u001b[39;00m \u001b[38;5;21mnot_implemented_func\u001b[39m(\u001b[38;5;241m*\u001b[39margs, \u001b[38;5;241m*\u001b[39m\u001b[38;5;241m*\u001b[39mkwargs):\n\u001b[0;32m--> 244\u001b[0m     \u001b[38;5;28;01mraise\u001b[39;00m \u001b[38;5;167;01mNotImplementedError\u001b[39;00m(help_str)\n",
      "\u001b[0;31mNotImplementedError\u001b[0m: \"windowMaker\" does not appear to be installed or on the path, so this method is disabled.  Please install a more recent version of BEDTools and re-import to use this method."
     ]
    }
   ],
   "source": [
    "fasta_path = \"temp.fa\"\n",
    "create_temp_fasta(all_seqs, fasta_path)\n",
    "outdir = \"temp_gimme\"\n",
    "params = {\n",
    "    \"tools\": \"Homer,BioProspector\",\n",
    "    \"genome\": \"hg38\"\n",
    "    }\n",
    "\n",
    "motifs = gimme_motifs(fasta_path, outdir, params=params)"
   ]
  },
  {
   "cell_type": "code",
   "execution_count": null,
   "id": "1bedfe4d",
   "metadata": {},
   "outputs": [],
   "source": [
    "from gimmemotifs.scanner import Scanner"
   ]
  },
  {
   "cell_type": "code",
   "execution_count": null,
   "id": "09ee3fb4",
   "metadata": {},
   "outputs": [],
   "source": [
    "s = Scanner()"
   ]
  },
  {
   "cell_type": "code",
   "execution_count": null,
   "id": "124d9eec",
   "metadata": {},
   "outputs": [],
   "source": [
    "s.set_genome(\"hg38\")\n",
    "s.set_threshold(fpr=0.01)"
   ]
  },
  {
   "cell_type": "code",
   "execution_count": null,
   "id": "406c01e6",
   "metadata": {},
   "outputs": [],
   "source": []
  }
 ],
 "metadata": {
  "kernelspec": {
   "display_name": "gimme",
   "language": "python",
   "name": "gimme"
  },
  "language_info": {
   "codemirror_mode": {
    "name": "ipython",
    "version": 3
   },
   "file_extension": ".py",
   "mimetype": "text/x-python",
   "name": "python",
   "nbconvert_exporter": "python",
   "pygments_lexer": "ipython3",
   "version": "3.10.8"
  }
 },
 "nbformat": 4,
 "nbformat_minor": 5
}
