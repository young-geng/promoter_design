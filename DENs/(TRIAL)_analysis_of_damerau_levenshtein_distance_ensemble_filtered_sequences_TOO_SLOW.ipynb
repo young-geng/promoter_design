{
 "cells": [
  {
   "cell_type": "code",
   "execution_count": 1,
   "id": "efcb5af9",
   "metadata": {},
   "outputs": [],
   "source": [
    "import numpy as np\n",
    "import pandas as pd\n",
    "import os\n",
    "import pdb\n",
    "import matplotlib.pyplot as plt\n",
    "import seaborn as sns\n",
    "import pickle\n",
    "from tqdm import tqdm\n",
    "from sklearn.metrics import pairwise_distances\n",
    "import jellyfish\n",
    "\n",
    "np.random.seed(97)"
   ]
  },
  {
   "cell_type": "code",
   "execution_count": 2,
   "id": "92ee901c",
   "metadata": {},
   "outputs": [],
   "source": [
    "ensemble_predictions_dir = \"/global/scratch/users/aniketh/promoter_modelling/jax_data/ensemble_predictions/\""
   ]
  },
  {
   "cell_type": "code",
   "execution_count": 3,
   "id": "a0de52b5",
   "metadata": {},
   "outputs": [],
   "source": [
    "final_df = pd.read_parquet(os.path.join(ensemble_predictions_dir, \"filtered_ensemble_1_predictions.parquet\"))\n",
    "coms_df = pd.read_parquet(os.path.join(ensemble_predictions_dir, \"filtered_coms_sequences_ensemble_1.parquet\"))\n",
    "dens_df = pd.read_parquet(os.path.join(ensemble_predictions_dir, \"filtered_dens_sequences_ensemble_1.parquet\"))"
   ]
  },
  {
   "cell_type": "code",
   "execution_count": 12,
   "id": "e2c1147e",
   "metadata": {},
   "outputs": [
    {
     "name": "stderr",
     "output_type": "stream",
     "text": [
      "0it [00:00, ?it/s]\n",
      "  0%|          | 0/155528 [00:00<?, ?it/s]\u001b[A\n",
      "  0%|          | 2/155528 [00:00<4:03:39, 10.64it/s]\u001b[A\n",
      "  0%|          | 5/155528 [00:00<2:43:35, 15.84it/s]\u001b[A\n",
      "  0%|          | 8/155528 [00:00<2:37:23, 16.47it/s]\u001b[A\n",
      "  0%|          | 11/155528 [00:00<2:39:29, 16.25it/s]\u001b[A\n",
      "  0%|          | 16/155528 [00:00<2:16:59, 18.92it/s]\u001b[A\n",
      "  0%|          | 19/155528 [00:01<2:23:45, 18.03it/s]\u001b[A\n",
      "  0%|          | 22/155528 [00:01<2:22:55, 18.13it/s]\u001b[A\n",
      "  0%|          | 25/155528 [00:01<2:21:14, 18.35it/s]\u001b[A\n",
      "  0%|          | 28/155528 [00:01<2:30:21, 17.24it/s]\u001b[A\n",
      "  0%|          | 32/155528 [00:01<2:18:06, 18.76it/s]\u001b[A\n",
      "  0%|          | 35/155528 [00:01<2:22:30, 18.19it/s]\u001b[A\n",
      "  0%|          | 38/155528 [00:02<2:14:25, 19.28it/s]\u001b[A\n",
      "  0%|          | 41/155528 [00:02<2:10:10, 19.91it/s]\u001b[A\n",
      "  0%|          | 44/155528 [00:02<2:17:00, 18.91it/s]\u001b[A\n",
      "  0%|          | 48/155528 [00:02<2:07:19, 20.35it/s]\u001b[A\n",
      "  0%|          | 51/155528 [00:02<2:11:43, 19.67it/s]\u001b[A\n",
      "  0%|          | 54/155528 [00:02<2:12:32, 19.55it/s]\u001b[A\n",
      "  0%|          | 56/155528 [00:03<2:17:27, 18.85it/s]\u001b[A\n",
      "  0%|          | 59/155528 [00:03<2:22:01, 18.24it/s]\u001b[A\n",
      "  0%|          | 62/155528 [00:03<2:19:20, 18.60it/s]\u001b[A\n",
      "  0%|          | 67/155528 [00:03<2:18:11, 18.75it/s]\u001b[A\n",
      "0it [00:03, ?it/s]\n",
      "\n",
      "KeyboardInterrupt\n",
      "\n"
     ]
    }
   ],
   "source": [
    "coms_seqs = list(coms_df[\"sequence\"])\n",
    "pairwise_edit_distances = np.zeros((len(coms_seqs), len(coms_seqs)))\n",
    "for i, seq1 in tqdm(enumerate(coms_seqs)):\n",
    "    for j in tqdm(range(i+1, len(coms_seqs), 1)):\n",
    "        seq2 = coms_seqs[j]\n",
    "        pairwise_edit_distances[i, j] = jellyfish.damerau_levenshtein_distance(seq1, seq2)"
   ]
  },
  {
   "cell_type": "code",
   "execution_count": 8,
   "id": "da0b0e36",
   "metadata": {},
   "outputs": [
    {
     "data": {
      "text/plain": [
       "array([[  0., 125., 135., ...,   0.,   0.,   0.],\n",
       "       [  0.,   0.,   0., ...,   0.,   0.,   0.],\n",
       "       [  0.,   0.,   0., ...,   0.,   0.,   0.],\n",
       "       ...,\n",
       "       [  0.,   0.,   0., ...,   0.,   0.,   0.],\n",
       "       [  0.,   0.,   0., ...,   0.,   0.,   0.],\n",
       "       [  0.,   0.,   0., ...,   0.,   0.,   0.]])"
      ]
     },
     "execution_count": 8,
     "metadata": {},
     "output_type": "execute_result"
    }
   ],
   "source": [
    "pairwise_edit_distances"
   ]
  },
  {
   "cell_type": "code",
   "execution_count": 7,
   "id": "13b4e805",
   "metadata": {},
   "outputs": [
    {
     "name": "stderr",
     "output_type": "stream",
     "text": [
      "100%|██████████| 155529/155529 [00:25<00:00, 5988.40it/s]\n"
     ]
    },
    {
     "name": "stdout",
     "output_type": "stream",
     "text": [
      "(155529, 4096)\n"
     ]
    }
   ],
   "source": [
    "coms_sequences_kmer_counts = []\n",
    "for i in tqdm(range(len(coms_df))):\n",
    "    coms_sequences_kmer_counts.append(get_kmer_counts(coms_df.iloc[i][\"sequence\"], kmer_k, kmer_to_ind))\n",
    "coms_sequences_kmer_counts = np.stack(coms_sequences_kmer_counts)\n",
    "print(coms_sequences_kmer_counts.shape)"
   ]
  },
  {
   "cell_type": "code",
   "execution_count": 8,
   "id": "d9808122",
   "metadata": {},
   "outputs": [
    {
     "name": "stderr",
     "output_type": "stream",
     "text": [
      "100%|██████████| 76465/76465 [00:11<00:00, 6863.79it/s]\n"
     ]
    },
    {
     "name": "stdout",
     "output_type": "stream",
     "text": [
      "(76465, 4096)\n"
     ]
    }
   ],
   "source": [
    "dens_sequences_kmer_counts = []\n",
    "for i in tqdm(range(len(dens_df))):\n",
    "    dens_sequences_kmer_counts.append(get_kmer_counts(dens_df.iloc[i][\"sequence\"], kmer_k, kmer_to_ind))\n",
    "dens_sequences_kmer_counts = np.stack(dens_sequences_kmer_counts)\n",
    "print(dens_sequences_kmer_counts.shape)"
   ]
  },
  {
   "cell_type": "code",
   "execution_count": null,
   "id": "d5f48e0a",
   "metadata": {},
   "outputs": [],
   "source": [
    "coms_sequences_pairwise_distances = pairwise_distances(coms_sequences_kmer_counts, metric=\"euclidean\", n_jobs=-1)\n",
    "dens_sequences_pairwise_distances = pairwise_distances(dens_sequences_kmer_counts, metric=\"euclidean\", n_jobs=-1)"
   ]
  },
  {
   "cell_type": "code",
   "execution_count": null,
   "id": "ff2f79ba",
   "metadata": {},
   "outputs": [],
   "source": [
    "coms_sequences_pairwise_distances = coms_sequences_pairwise_distances / (245*np.sqrt(2))\n",
    "dens_sequences_pairwise_distances = dens_sequences_pairwise_distances / (245*np.sqrt(2))"
   ]
  },
  {
   "cell_type": "code",
   "execution_count": null,
   "id": "75088529",
   "metadata": {},
   "outputs": [],
   "source": [
    "triu_idxs = np.triu_indices_from(coms_sequences_pairwise_distances, k=1)\n",
    "print(f\"COMs sequences avg pairwise k-mer distance = {coms_sequences_pairwise_distances[triu_idxs].mean()}\")\n",
    "print(f\"COMs sequences min pairwise k-mer distance = {coms_sequences_pairwise_distances[triu_idxs].min()}\")\n",
    "print(f\"COMs sequences max pairwise k-mer distance = {coms_sequences_pairwise_distances[triu_idxs].max()}\")\n",
    "\n",
    "triu_idxs = np.triu_indices_from(dens_sequences_pairwise_distances, k=1)\n",
    "print(f\"DENs sequences avg pairwise k-mer distance = {dens_sequences_pairwise_distances[triu_idxs].mean()}\")\n",
    "print(f\"DENs sequences avg pairwise k-mer distance = {dens_sequences_pairwise_distances[triu_idxs].min()}\")\n",
    "print(f\"DENs sequences avg pairwise k-mer distance = {dens_sequences_pairwise_distances[triu_idxs].max()}\")"
   ]
  },
  {
   "cell_type": "code",
   "execution_count": 9,
   "id": "4023e433",
   "metadata": {},
   "outputs": [],
   "source": [
    "np.save(os.path.join(ensemble_predictions_dir, f\"filtered_coms_sequences_ensemble_1_{kmer_k}mer_counts.npy\"), coms_sequences_kmer_counts)\n",
    "np.save(os.path.join(ensemble_predictions_dir, f\"filtered_dens_sequences_ensemble_1_{kmer_k}mer_counts.npy\"), dens_sequences_kmer_counts)"
   ]
  },
  {
   "cell_type": "code",
   "execution_count": 13,
   "id": "7e3860ab",
   "metadata": {},
   "outputs": [],
   "source": [
    "np.save(os.path.join(ensemble_predictions_dir, f\"filtered_coms_sequences_ensemble_1_{kmer_k}mer_counts_pairwise_euclidean_distances.npy\"), coms_sequences_pairwise_distances)\n",
    "np.save(os.path.join(ensemble_predictions_dir, f\"filtered_dens_sequences_ensemble_1_{kmer_k}mer_counts_pairwise_euclidean_distances.npy\"), dens_sequences_pairwise_distances)"
   ]
  },
  {
   "cell_type": "code",
   "execution_count": 14,
   "id": "eff6c947",
   "metadata": {},
   "outputs": [
    {
     "data": {
      "text/plain": [
       "85.00588214941364"
      ]
     },
     "execution_count": 14,
     "metadata": {},
     "output_type": "execute_result"
    }
   ],
   "source": [
    "coms_sequences_pairwise_distances.max()"
   ]
  },
  {
   "cell_type": "code",
   "execution_count": 15,
   "id": "58d9d52f",
   "metadata": {},
   "outputs": [
    {
     "data": {
      "text/plain": [
       "179.3655485314836"
      ]
     },
     "execution_count": 15,
     "metadata": {},
     "output_type": "execute_result"
    }
   ],
   "source": [
    "dens_sequences_pairwise_distances.max()"
   ]
  },
  {
   "cell_type": "code",
   "execution_count": null,
   "id": "b0b4c8dd",
   "metadata": {},
   "outputs": [],
   "source": []
  }
 ],
 "metadata": {
  "kernelspec": {
   "display_name": "mar312023",
   "language": "python",
   "name": "mar312023"
  },
  "language_info": {
   "codemirror_mode": {
    "name": "ipython",
    "version": 3
   },
   "file_extension": ".py",
   "mimetype": "text/x-python",
   "name": "python",
   "nbconvert_exporter": "python",
   "pygments_lexer": "ipython3",
   "version": "3.10.10"
  }
 },
 "nbformat": 4,
 "nbformat_minor": 5
}
