{
 "cells": [
  {
   "cell_type": "code",
   "execution_count": 1,
   "id": "ca2b27fe",
   "metadata": {},
   "outputs": [],
   "source": [
    "import os\n",
    "import numpy as np"
   ]
  },
  {
   "cell_type": "code",
   "execution_count": 2,
   "id": "510f45ea",
   "metadata": {},
   "outputs": [],
   "source": [
    "all_configs = []\n",
    "all_configs.append({\n",
    "    \"diversity_loss_coef\": 1.0,\n",
    "    \"entropy_loss_coef\": 1.0,\n",
    "})\n",
    "all_configs.append({\n",
    "    \"diversity_loss_coef\": 5.0,\n",
    "    \"entropy_loss_coef\": 5.0,\n",
    "})\n",
    "all_configs.append({\n",
    "    \"diversity_loss_coef\": 10.0,\n",
    "    \"entropy_loss_coef\": 10.0,\n",
    "})"
   ]
  },
  {
   "cell_type": "code",
   "execution_count": 3,
   "id": "9940629b",
   "metadata": {},
   "outputs": [],
   "source": [
    "jax_data_dir = \"/global/scratch/users/aniketh/promoter_modelling/jax_data/\"\n",
    "scripts_dir = \"/global/home/users/aniketh/promoter/\"\n",
    "\n",
    "oracle_test_data_path = os.path.join(jax_data_dir, \"finetune_data.pkl\")\n",
    "assert os.path.exists(oracle_test_data_path)\n",
    "\n",
    "saved_models_dir = os.path.join(jax_data_dir, \"saved_DEN_models_v7_TITAN\")\n",
    "if not os.path.exists(saved_models_dir):\n",
    "    os.mkdir(saved_models_dir)\n",
    "assert os.path.exists(saved_models_dir)\n",
    "\n",
    "wandb_dir = os.path.join(jax_data_dir, \"wandb_v7_TITAN\")\n",
    "if not os.path.exists(wandb_dir):\n",
    "    os.mkdir(wandb_dir)\n",
    "assert os.path.exists(wandb_dir)\n",
    "\n",
    "bash_scripts_dir = \"/global/home/users/aniketh/promoter/promoter/run_DENs_v7_TITAN_bash_scripts\"\n",
    "if not os.path.exists(bash_scripts_dir):\n",
    "    os.mkdir(bash_scripts_dir)\n",
    "    \n",
    "total_count = len(os.listdir(os.path.join(jax_data_dir, \"trained_predictors_new_loss\"))) * len([\"THP1\", \"Jurkat\", \"K562\"]) * len(all_configs)\n",
    "\n",
    "num_splits = 2\n",
    "runs_per_job = int(np.ceil(total_count / num_splits))\n",
    "job_cnt = 0\n",
    "cur_cnt = 0\n",
    "\n",
    "target_cell_exp_weight = {\"THP1\": 2, \"Jurkat\": 2, \"K562\": 2}\n",
    "\n",
    "slurm_prefix = open(\"slurm_prefix.txt\", \"r\").readlines()\n",
    "\n",
    "g = open(os.path.join(bash_scripts_dir, f\"train_all_DENs_j{job_cnt}.sh\"), \"w+\")\n",
    "for line in slurm_prefix:\n",
    "    g.write(line)\n",
    "    \n",
    "rem_count = 0\n",
    "\n",
    "for model in sorted(os.listdir(os.path.join(jax_data_dir, \"trained_predictors_new_loss\"))):\n",
    "    for diff_exp_cell_ind, cell in enumerate([\"THP1\", \"Jurkat\", \"K562\"]):\n",
    "        for config in all_configs:\n",
    "            diversity_loss_coef = config[\"diversity_loss_coef\"]\n",
    "            entropy_loss_coef = config[\"entropy_loss_coef\"]\n",
    "            \n",
    "            experiment_id = f\"{cell}_using_{model}_div_coef_{diversity_loss_coef}_ent_coef_{entropy_loss_coef}\"\n",
    "            pretrained_predictor_path = os.path.join(jax_data_dir, \"trained_predictors_new_loss\", model)\n",
    "            \n",
    "            if os.path.exists(os.path.join(saved_models_dir, experiment_id, \"final_sequences.npy\")):\n",
    "                continue\n",
    "                \n",
    "            rem_count += 1\n",
    "        \n",
    "            if cur_cnt == runs_per_job:\n",
    "                job_cnt += 1\n",
    "                cur_cnt = 0\n",
    "                g.close()\n",
    "                g = open(os.path.join(bash_scripts_dir, f\"train_all_DENs_j{job_cnt}.sh\"), \"w+\")\n",
    "                for line in slurm_prefix:\n",
    "                    g.write(line)\n",
    "                print(\"Created new job split\")\n",
    "\n",
    "            cmd = f\"sbatch --requeue --export=scripts_dir={scripts_dir},pretrained_predictor_path={pretrained_predictor_path},diff_exp_cell_ind={diff_exp_cell_ind},diversity_loss_coef={diversity_loss_coef},entropy_loss_coef={entropy_loss_coef},oracle_test_data_path={oracle_test_data_path},saved_models_dir={saved_models_dir},wandb_dir={wandb_dir},experiment_id={experiment_id} run_DENs_v7_TITAN.sh\"\n",
    "            os.system(cmd)\n",
    "            print(cmd)\n",
    "            print()\n",
    "\n",
    "            f = open(os.path.join(bash_scripts_dir, experiment_id + \".sh\"), \"w+\")\n",
    "            f.write(\"#!/bin/bash\\n\")\n",
    "            all_exports = f\"scripts_dir={scripts_dir},pretrained_predictor_path={pretrained_predictor_path},diff_exp_cell_ind={diff_exp_cell_ind},diversity_loss_coef={diversity_loss_coef},entropy_loss_coef={entropy_loss_coef},oracle_test_data_path={oracle_test_data_path},saved_models_dir={saved_models_dir},wandb_dir={wandb_dir},experiment_id={experiment_id}\"\n",
    "            for ex in all_exports.split(\",\"):\n",
    "                var, val = ex.split(\"=\")\n",
    "                print(f\"export {var}={val}\")\n",
    "                f.write(f\"export {var}={val}\\n\")\n",
    "            print(\"bash {}\".format(os.path.join(scripts_dir, \"promoter/run_DENs_v7_TITAN.sh\")))\n",
    "            f.write(\"bash {}\\n\".format(os.path.join(scripts_dir, \"promoter/run_DENs_v7_TITAN.sh\")))\n",
    "            f.close()\n",
    "\n",
    "            g.write(\"bash {}\".format(os.path.join(bash_scripts_dir, experiment_id + \".sh\\n\")))        \n",
    "            print()\n",
    "\n",
    "            cur_cnt += 1\n",
    "g.close()"
   ]
  },
  {
   "cell_type": "code",
   "execution_count": 4,
   "id": "c100efc5",
   "metadata": {},
   "outputs": [
    {
     "data": {
      "text/plain": [
       "72"
      ]
     },
     "execution_count": 4,
     "metadata": {},
     "output_type": "execute_result"
    }
   ],
   "source": [
    "total_count"
   ]
  },
  {
   "cell_type": "code",
   "execution_count": 5,
   "id": "db4b0b30",
   "metadata": {},
   "outputs": [
    {
     "data": {
      "text/plain": [
       "0"
      ]
     },
     "execution_count": 5,
     "metadata": {},
     "output_type": "execute_result"
    }
   ],
   "source": [
    "rem_count"
   ]
  },
  {
   "cell_type": "code",
   "execution_count": null,
   "id": "229fff32",
   "metadata": {},
   "outputs": [],
   "source": []
  }
 ],
 "metadata": {
  "kernelspec": {
   "display_name": "mar312023",
   "language": "python",
   "name": "mar312023"
  },
  "language_info": {
   "codemirror_mode": {
    "name": "ipython",
    "version": 3
   },
   "file_extension": ".py",
   "mimetype": "text/x-python",
   "name": "python",
   "nbconvert_exporter": "python",
   "pygments_lexer": "ipython3",
   "version": "3.10.10"
  }
 },
 "nbformat": 4,
 "nbformat_minor": 5
}
