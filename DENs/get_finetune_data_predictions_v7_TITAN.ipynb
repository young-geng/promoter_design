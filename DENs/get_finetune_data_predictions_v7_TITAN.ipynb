{
 "cells": [
  {
   "cell_type": "code",
   "execution_count": null,
   "id": "b0c8a328",
   "metadata": {},
   "outputs": [],
   "source": [
    "import os\n",
    "import numpy as np"
   ]
  },
  {
   "cell_type": "code",
   "execution_count": 2,
   "id": "a1d96b8a",
   "metadata": {},
   "outputs": [],
   "source": [
    "jax_data_dir = \"/global/scratch/users/aniketh/promoter_modelling/jax_data/\"\n",
    "scripts_dir = \"/global/home/users/aniketh/promoter/\"\n",
    "\n",
    "oracle_test_data_path = os.path.join(jax_data_dir, \"finetune_data.pkl\")\n",
    "assert os.path.exists(oracle_test_data_path)\n",
    "\n",
    "predictions_save_dir = os.path.join(jax_data_dir, \"oracle_predictions_v7_TITAN\")\n",
    "if not os.path.exists(predictions_save_dir):\n",
    "    os.mkdir(predictions_save_dir)\n",
    "assert os.path.exists(predictions_save_dir)\n",
    "\n",
    "bash_scripts_dir = \"/global/home/users/aniketh/promoter/promoter/get_oracle_predictions_bash_scripts_v7_TITAN\"\n",
    "if not os.path.exists(bash_scripts_dir):\n",
    "    os.mkdir(bash_scripts_dir)\n",
    "    \n",
    "total_count = len(os.listdir(os.path.join(jax_data_dir, \"trained_predictors_new_loss\")))\n",
    "    \n",
    "num_splits = 1\n",
    "runs_per_job = int(np.ceil(total_count / num_splits))\n",
    "job_cnt = 0\n",
    "cur_cnt = 0\n",
    "\n",
    "slurm_prefix = open(\"slurm_prefix.txt\", \"r\").readlines()\n",
    "\n",
    "g = open(os.path.join(bash_scripts_dir, f\"get_all_predictions_j{job_cnt}.sh\"), \"w+\")\n",
    "for line in slurm_prefix:\n",
    "    g.write(line)\n",
    "    \n",
    "rem_count = 0\n",
    "\n",
    "for model in sorted(os.listdir(os.path.join(jax_data_dir, \"trained_predictors_new_loss\"))):\n",
    "    pretrained_predictor_path = os.path.join(jax_data_dir, \"trained_predictors_new_loss\", model)\n",
    "            \n",
    "    if os.path.exists(os.path.join(predictions_save_dir, model, \"oracle_test_ground_truth.npy\")):\n",
    "        continue\n",
    "                \n",
    "    rem_count += 1\n",
    "        \n",
    "    if cur_cnt == runs_per_job:\n",
    "        job_cnt += 1\n",
    "        cur_cnt = 0\n",
    "        g.close()\n",
    "        g = open(os.path.join(bash_scripts_dir, f\"get_all_predictions_j{job_cnt}.sh\"), \"w+\")\n",
    "        for line in slurm_prefix:\n",
    "            g.write(line)\n",
    "        print(\"Created new job split\")\n",
    "\n",
    "    cmd = f\"sbatch --requeue --export=scripts_dir={scripts_dir},pretrained_predictor_path={pretrained_predictor_path},oracle_test_data_path={oracle_test_data_path},predictions_save_dir={predictions_save_dir} get_finetune_data_predictions.sh\"\n",
    "    os.system(cmd)\n",
    "    print(cmd)\n",
    "    print()\n",
    "\n",
    "    f = open(os.path.join(bash_scripts_dir, model + \".sh\"), \"w+\")\n",
    "    f.write(\"#!/bin/bash\\n\")\n",
    "    all_exports = f\"scripts_dir={scripts_dir},pretrained_predictor_path={pretrained_predictor_path},oracle_test_data_path={oracle_test_data_path},predictions_save_dir={predictions_save_dir}\"\n",
    "    for ex in all_exports.split(\",\"):\n",
    "        var, val = ex.split(\"=\")\n",
    "        print(f\"export {var}={val}\")\n",
    "        f.write(f\"export {var}={val}\\n\")\n",
    "    print(\"bash {}\".format(os.path.join(scripts_dir, \"promoter/get_finetune_data_predictions.sh\")))\n",
    "    f.write(\"bash {}\\n\".format(os.path.join(scripts_dir, \"promoter/get_finetune_data_predictions.sh\")))\n",
    "    f.close()\n",
    "\n",
    "    g.write(\"bash {}\".format(os.path.join(bash_scripts_dir, model + \".sh\\n\")))        \n",
    "    print()\n",
    "\n",
    "    cur_cnt += 1\n",
    "    \n",
    "g.close()"
   ]
  },
  {
   "cell_type": "code",
   "execution_count": 3,
   "id": "4db2c549",
   "metadata": {},
   "outputs": [
    {
     "data": {
      "text/plain": [
       "8"
      ]
     },
     "execution_count": 3,
     "metadata": {},
     "output_type": "execute_result"
    }
   ],
   "source": [
    "total_count"
   ]
  },
  {
   "cell_type": "code",
   "execution_count": 4,
   "id": "d74f4350",
   "metadata": {},
   "outputs": [
    {
     "data": {
      "text/plain": [
       "0"
      ]
     },
     "execution_count": 4,
     "metadata": {},
     "output_type": "execute_result"
    }
   ],
   "source": [
    "rem_count"
   ]
  },
  {
   "cell_type": "code",
   "execution_count": null,
   "id": "eea12852",
   "metadata": {},
   "outputs": [],
   "source": []
  }
 ],
 "metadata": {
  "kernelspec": {
   "display_name": "mar312023",
   "language": "python",
   "name": "mar312023"
  },
  "language_info": {
   "codemirror_mode": {
    "name": "ipython",
    "version": 3
   },
   "file_extension": ".py",
   "mimetype": "text/x-python",
   "name": "python",
   "nbconvert_exporter": "python",
   "pygments_lexer": "ipython3",
   "version": "3.10.10"
  }
 },
 "nbformat": 4,
 "nbformat_minor": 5
}
