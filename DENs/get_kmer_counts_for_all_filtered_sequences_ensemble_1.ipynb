{
 "cells": [
  {
   "cell_type": "code",
   "execution_count": 1,
   "id": "c0826a62",
   "metadata": {},
   "outputs": [],
   "source": [
    "import numpy as np\n",
    "import pandas as pd\n",
    "import os\n",
    "import pdb\n",
    "import matplotlib.pyplot as plt\n",
    "import seaborn as sns\n",
    "import pickle\n",
    "from tqdm import tqdm\n",
    "from sklearn.metrics import pairwise_distances\n",
    "\n",
    "np.random.seed(97)"
   ]
  },
  {
   "cell_type": "code",
   "execution_count": 2,
   "id": "bce31fea",
   "metadata": {},
   "outputs": [],
   "source": [
    "ensemble_predictions_dir = \"/global/scratch/users/aniketh/promoter_modelling/jax_data/ensemble_predictions/\"\n",
    "kmer_k = 6"
   ]
  },
  {
   "cell_type": "code",
   "execution_count": 3,
   "id": "267c9ed2",
   "metadata": {},
   "outputs": [],
   "source": [
    "final_df = pd.read_parquet(os.path.join(ensemble_predictions_dir, \"filtered_ensemble_1_predictions.parquet\"))\n",
    "coms_df = pd.read_parquet(os.path.join(ensemble_predictions_dir, \"filtered_coms_sequences_ensemble_1.parquet\"))\n",
    "dens_df = pd.read_parquet(os.path.join(ensemble_predictions_dir, \"filtered_dens_sequences_ensemble_1.parquet\"))"
   ]
  },
  {
   "cell_type": "code",
   "execution_count": 4,
   "id": "ba5b47b9",
   "metadata": {},
   "outputs": [],
   "source": [
    "def get_all_kmers(k):\n",
    "    bases = [\"A\", \"C\", \"G\", \"T\"]\n",
    "    all_kmers = [\"\"] * (len(bases)**k)\n",
    "\n",
    "    for i in range(k):\n",
    "        for j in range(int(len(bases)**i)):\n",
    "            for b, base in enumerate(bases):\n",
    "                for l in range(len(bases)**(k - i - 1)):\n",
    "                    ind = int(l + (j*len(bases) + b)*(len(bases)**(k - i - 1)))\n",
    "                    all_kmers[ind] = all_kmers[ind][:i] + base\n",
    "    \n",
    "    assert len(set(all_kmers)) == len(bases)**k\n",
    "    \n",
    "    kmer_to_ind = {}\n",
    "    for i, kmer in enumerate(all_kmers):\n",
    "        kmer_to_ind[kmer] = i\n",
    "    \n",
    "    return all_kmers, kmer_to_ind"
   ]
  },
  {
   "cell_type": "code",
   "execution_count": 5,
   "id": "c50484ac",
   "metadata": {},
   "outputs": [],
   "source": [
    "def get_kmer_counts(seq, kmer_size, kmer_to_ind):\n",
    "    assert len(seq) >= kmer_size\n",
    "    kmer_counts = np.zeros(4**kmer_size)\n",
    "    for i in range(len(seq) - kmer_size + 1):\n",
    "        kmer_counts[kmer_to_ind[seq[i: i+kmer_size]]] += 1\n",
    "    return kmer_counts"
   ]
  },
  {
   "cell_type": "code",
   "execution_count": 6,
   "id": "7b59e0bf",
   "metadata": {},
   "outputs": [],
   "source": [
    "all_kmers, kmer_to_ind = get_all_kmers(kmer_k)"
   ]
  },
  {
   "cell_type": "code",
   "execution_count": 7,
   "id": "2aa0a4cd",
   "metadata": {},
   "outputs": [
    {
     "name": "stderr",
     "output_type": "stream",
     "text": [
      "100%|██████████| 155529/155529 [00:25<00:00, 5988.40it/s]\n"
     ]
    },
    {
     "name": "stdout",
     "output_type": "stream",
     "text": [
      "(155529, 4096)\n"
     ]
    }
   ],
   "source": [
    "coms_sequences_kmer_counts = []\n",
    "for i in tqdm(range(len(coms_df))):\n",
    "    coms_sequences_kmer_counts.append(get_kmer_counts(coms_df.iloc[i][\"sequence\"], kmer_k, kmer_to_ind))\n",
    "coms_sequences_kmer_counts = np.stack(coms_sequences_kmer_counts)\n",
    "print(coms_sequences_kmer_counts.shape)"
   ]
  },
  {
   "cell_type": "code",
   "execution_count": 8,
   "id": "7053086d",
   "metadata": {},
   "outputs": [
    {
     "name": "stderr",
     "output_type": "stream",
     "text": [
      "100%|██████████| 76465/76465 [00:11<00:00, 6863.79it/s]\n"
     ]
    },
    {
     "name": "stdout",
     "output_type": "stream",
     "text": [
      "(76465, 4096)\n"
     ]
    }
   ],
   "source": [
    "dens_sequences_kmer_counts = []\n",
    "for i in tqdm(range(len(dens_df))):\n",
    "    dens_sequences_kmer_counts.append(get_kmer_counts(dens_df.iloc[i][\"sequence\"], kmer_k, kmer_to_ind))\n",
    "dens_sequences_kmer_counts = np.stack(dens_sequences_kmer_counts)\n",
    "print(dens_sequences_kmer_counts.shape)"
   ]
  },
  {
   "cell_type": "code",
   "execution_count": null,
   "id": "bd429e56",
   "metadata": {},
   "outputs": [],
   "source": [
    "coms_sequences_pairwise_distances = pairwise_distances(coms_sequences_kmer_counts, metric=\"euclidean\", n_jobs=-1)\n",
    "dens_sequences_pairwise_distances = pairwise_distances(dens_sequences_kmer_counts, metric=\"euclidean\", n_jobs=-1)"
   ]
  },
  {
   "cell_type": "code",
   "execution_count": null,
   "id": "d507a2ec",
   "metadata": {},
   "outputs": [],
   "source": [
    "coms_sequences_pairwise_distances = coms_sequences_pairwise_distances / (245*np.sqrt(2))\n",
    "dens_sequences_pairwise_distances = dens_sequences_pairwise_distances / (245*np.sqrt(2))"
   ]
  },
  {
   "cell_type": "code",
   "execution_count": null,
   "id": "6f49a608",
   "metadata": {},
   "outputs": [],
   "source": [
    "triu_idxs = np.triu_indices_from(coms_sequences_pairwise_distances, k=1)\n",
    "print(f\"COMs sequences avg pairwise k-mer distance = {coms_sequences_pairwise_distances[triu_idxs].mean()}\")\n",
    "print(f\"COMs sequences min pairwise k-mer distance = {coms_sequences_pairwise_distances[triu_idxs].min()}\")\n",
    "print(f\"COMs sequences max pairwise k-mer distance = {coms_sequences_pairwise_distances[triu_idxs].max()}\")\n",
    "\n",
    "triu_idxs = np.triu_indices_from(dens_sequences_pairwise_distances, k=1)\n",
    "print(f\"DENs sequences avg pairwise k-mer distance = {dens_sequences_pairwise_distances[triu_idxs].mean()}\")\n",
    "print(f\"DENs sequences avg pairwise k-mer distance = {dens_sequences_pairwise_distances[triu_idxs].min()}\")\n",
    "print(f\"DENs sequences avg pairwise k-mer distance = {dens_sequences_pairwise_distances[triu_idxs].max()}\")"
   ]
  },
  {
   "cell_type": "code",
   "execution_count": 9,
   "id": "1c3ea52d",
   "metadata": {},
   "outputs": [],
   "source": [
    "np.save(os.path.join(ensemble_predictions_dir, f\"filtered_coms_sequences_ensemble_1_{kmer_k}mer_counts.npy\"), coms_sequences_kmer_counts)\n",
    "np.save(os.path.join(ensemble_predictions_dir, f\"filtered_dens_sequences_ensemble_1_{kmer_k}mer_counts.npy\"), dens_sequences_kmer_counts)"
   ]
  },
  {
   "cell_type": "code",
   "execution_count": 13,
   "id": "87081ba3",
   "metadata": {},
   "outputs": [],
   "source": [
    "np.save(os.path.join(ensemble_predictions_dir, f\"filtered_coms_sequences_ensemble_1_{kmer_k}mer_counts_pairwise_euclidean_distances.npy\"), coms_sequences_pairwise_distances)\n",
    "np.save(os.path.join(ensemble_predictions_dir, f\"filtered_dens_sequences_ensemble_1_{kmer_k}mer_counts_pairwise_euclidean_distances.npy\"), dens_sequences_pairwise_distances)"
   ]
  },
  {
   "cell_type": "code",
   "execution_count": 14,
   "id": "163cb62b",
   "metadata": {},
   "outputs": [
    {
     "data": {
      "text/plain": [
       "85.00588214941364"
      ]
     },
     "execution_count": 14,
     "metadata": {},
     "output_type": "execute_result"
    }
   ],
   "source": [
    "coms_sequences_pairwise_distances.max()"
   ]
  },
  {
   "cell_type": "code",
   "execution_count": 15,
   "id": "b1581e32",
   "metadata": {},
   "outputs": [
    {
     "data": {
      "text/plain": [
       "179.3655485314836"
      ]
     },
     "execution_count": 15,
     "metadata": {},
     "output_type": "execute_result"
    }
   ],
   "source": [
    "dens_sequences_pairwise_distances.max()"
   ]
  },
  {
   "cell_type": "code",
   "execution_count": null,
   "id": "cce0ef4c",
   "metadata": {},
   "outputs": [],
   "source": []
  }
 ],
 "metadata": {
  "kernelspec": {
   "display_name": "mar312023",
   "language": "python",
   "name": "mar312023"
  },
  "language_info": {
   "codemirror_mode": {
    "name": "ipython",
    "version": 3
   },
   "file_extension": ".py",
   "mimetype": "text/x-python",
   "name": "python",
   "nbconvert_exporter": "python",
   "pygments_lexer": "ipython3",
   "version": "3.10.10"
  }
 },
 "nbformat": 4,
 "nbformat_minor": 5
}
